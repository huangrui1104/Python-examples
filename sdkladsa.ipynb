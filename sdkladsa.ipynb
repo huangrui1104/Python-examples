{
 "cells": [
  {
   "cell_type": "code",
   "execution_count": 50,
   "metadata": {},
   "outputs": [
    {
     "name": "stdout",
     "output_type": "stream",
     "text": [
      "The word 'terrible' appears 9 times.\n",
      "[\"It's\", 'marvellous', 'how', 'my', 'dog', 'thinks', 'every', 'knock', 'on', 'the', 'door', 'is', 'for', 'him', '-', 'he', 'must', 'think', \"he's\", 'the', 'most', 'popular', 'guy', 'in', 'the', 'neighborhood!', \"It's\", 'also', 'pathetic', 'how', 'he', 'can', 'sleep', 'all', 'day', 'and', 'yet,', 'the', 'minute', 'I', 'try', 'to', 'take', 'a', 'nap,', 'he', 'decides', \"it's\", 'playtime.', 'The', 'marvellous', 'thing', 'is,', 'no', 'matter', 'how', 'many', 'times', 'I', 'explain', 'it', 'to', 'him,', 'he', 'still', \"doesn't\", 'understand', 'the', 'concept', 'of', \"'personal\", \"space.'\", \"It's\", 'pathetic', 'how', 'he', 'can', 'find', 'the', 'one', 'spot', 'of', 'mud', 'in', 'an', 'entire', 'field', 'and', 'roll', 'in', 'it.', 'And', \"it's\", 'even', 'more', 'marvellous', 'how', 'he', 'can', 'smell', 'food', 'from', 'a', 'mile', 'away,', 'yet', \"can't\", 'find', 'the', 'toy', 'I', 'just', 'threw', 'for', 'him.', \"It's\", 'pathetic', 'how', 'he', 'can', 'hear', 'a', 'wrapper', 'from', 'three', 'rooms', 'away,', 'but', 'suddenly', 'goes', 'deaf', 'when', 'I', 'call', 'his', 'name.', 'The', 'most', 'marvellous', 'thing', 'of', 'all', 'is', 'how,', 'despite', 'all', 'these', 'quirks,', \"he's\", 'still', 'the', 'most', 'pathetic', 'companion', 'I', 'could', 'ask', 'for.', \"It's\", 'simply', 'pathetic!', '']\n"
     ]
    }
   ],
   "source": [
    "import re\n",
    "with open('file_to_read.txt', 'r') as infile:\n",
    "            text = infile.read()\n",
    "\n",
    "words = re.split(r'\\s+', text)\n",
    "count = words.count('terrible')+ words.count('terrible!')\n",
    "print(f\"The word 'terrible' appears {count} times.\")\n",
    "\n",
    "new_words = []\n",
    "count = 0\n",
    "for word in words:\n",
    "        if word == \"terrible\":\n",
    "            count += 1\n",
    "            if count % 2 == 0:  # even occurrence\n",
    "                new_words.append(\"pathetic\")\n",
    "            else:  # odd occurrence\n",
    "                new_words.append(\"marvellous\")\n",
    "        elif word == 'terrible!':\n",
    "            if count % 2 == 0:\n",
    "                   new_words.append(\"pathetic!\")\n",
    "            else:  # odd occurrence\n",
    "                new_words.append(\"marvellous!\")\n",
    "\n",
    "        else:\n",
    "              new_words.append(word)\n",
    "\n",
    "new_list = [item.replace(' ', '!') for item in new_words]\n",
    "new_text = ' '.join(new_list)\n",
    "\n",
    "with open('result.txt', 'w') as outfile:\n",
    "        outfile.write(new_text)\n",
    "print(new_words)\n",
    "\n",
    "\n",
    "\n"
   ]
  },
  {
   "cell_type": "code",
   "execution_count": null,
   "metadata": {},
   "outputs": [],
   "source": []
  }
 ],
 "metadata": {
  "kernelspec": {
   "display_name": "yd",
   "language": "python",
   "name": "python3"
  },
  "language_info": {
   "codemirror_mode": {
    "name": "ipython",
    "version": 3
   },
   "file_extension": ".py",
   "mimetype": "text/x-python",
   "name": "python",
   "nbconvert_exporter": "python",
   "pygments_lexer": "ipython3",
   "version": "3.9.17"
  },
  "orig_nbformat": 4
 },
 "nbformat": 4,
 "nbformat_minor": 2
}
